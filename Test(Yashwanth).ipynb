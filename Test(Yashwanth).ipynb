{
 "cells": [
  {
   "cell_type": "code",
   "execution_count": 141,
   "metadata": {},
   "outputs": [],
   "source": [
    "# OpenSoundscape imports\n",
    "from opensoundscape import Audio, Spectrogram\n",
    "from opensoundscape.annotations import BoxedAnnotations\n",
    "\n",
    "# General-purpose packages\n",
    "import numpy as np\n",
    "import pandas as pd\n",
    "from glob import glob\n",
    "from pathlib import Path\n",
    "\n",
    "\n",
    "from matplotlib import pyplot as plt\n",
    "plt.rcParams['figure.figsize']=[15,5] #for big visuals\n",
    "%config InlineBackend.figure_format = 'retina'\n"
   ]
  },
  {
   "cell_type": "markdown",
   "metadata": {},
   "source": [
    "Loading Raven Files"
   ]
  },
  {
   "cell_type": "code",
   "execution_count": 142,
   "metadata": {},
   "outputs": [
    {
     "name": "stdout",
     "output_type": "stream",
     "text": [
      "Renamed: C:\\Users\\vishal\\Desktop\\BirdCoding-main\\ravenSelectionTables\\20221022_060000.txt to C:\\Users\\vishal\\Desktop\\BirdCoding-main\\ravenSelectionTables\\20221022_060000.txt\n",
      "Renamed: C:\\Users\\vishal\\Desktop\\BirdCoding-main\\ravenSelectionTables\\20221024_060000.txt to C:\\Users\\vishal\\Desktop\\BirdCoding-main\\ravenSelectionTables\\20221024_060000.txt\n",
      "Renamed: C:\\Users\\vishal\\Desktop\\BirdCoding-main\\ravenSelectionTables\\20221025_060000.txt to C:\\Users\\vishal\\Desktop\\BirdCoding-main\\ravenSelectionTables\\20221025_060000.txt\n",
      "Renamed: C:\\Users\\vishal\\Desktop\\BirdCoding-main\\ravenSelectionTables\\20221027_060000.txt to C:\\Users\\vishal\\Desktop\\BirdCoding-main\\ravenSelectionTables\\20221027_060000.txt\n",
      "Renamed: C:\\Users\\vishal\\Desktop\\BirdCoding-main\\ravenSelectionTables\\20221029_060000.txt to C:\\Users\\vishal\\Desktop\\BirdCoding-main\\ravenSelectionTables\\20221029_060000.txt\n",
      "Renamed: C:\\Users\\vishal\\Desktop\\BirdCoding-main\\ravenSelectionTables\\20221101_060000.txt to C:\\Users\\vishal\\Desktop\\BirdCoding-main\\ravenSelectionTables\\20221101_060000.txt\n",
      "Renamed: C:\\Users\\vishal\\Desktop\\BirdCoding-main\\ravenSelectionTables\\20221103_060000.txt to C:\\Users\\vishal\\Desktop\\BirdCoding-main\\ravenSelectionTables\\20221103_060000.txt\n",
      "Renamed: C:\\Users\\vishal\\Desktop\\BirdCoding-main\\ravenSelectionTables\\20221104_060000.txt to C:\\Users\\vishal\\Desktop\\BirdCoding-main\\ravenSelectionTables\\20221104_060000.txt\n",
      "Renamed: C:\\Users\\vishal\\Desktop\\BirdCoding-main\\ravenSelectionTables\\20221106_060000.txt to C:\\Users\\vishal\\Desktop\\BirdCoding-main\\ravenSelectionTables\\20221106_060000.txt\n",
      "Renamed: C:\\Users\\vishal\\Desktop\\BirdCoding-main\\ravenSelectionTables\\20221108_060000.txt to C:\\Users\\vishal\\Desktop\\BirdCoding-main\\ravenSelectionTables\\20221108_060000.txt\n",
      "Renamed: C:\\Users\\vishal\\Desktop\\BirdCoding-main\\ravenSelectionTables\\20221109_060000.txt to C:\\Users\\vishal\\Desktop\\BirdCoding-main\\ravenSelectionTables\\20221109_060000.txt\n",
      "Renamed: C:\\Users\\vishal\\Desktop\\BirdCoding-main\\ravenSelectionTables\\20221111_060000.txt to C:\\Users\\vishal\\Desktop\\BirdCoding-main\\ravenSelectionTables\\20221111_060000.txt\n",
      "Renamed: C:\\Users\\vishal\\Desktop\\BirdCoding-main\\ravenSelectionTables\\20221113_060000.txt to C:\\Users\\vishal\\Desktop\\BirdCoding-main\\ravenSelectionTables\\20221113_060000.txt\n",
      "Renamed: C:\\Users\\vishal\\Desktop\\BirdCoding-main\\ravenSelectionTables\\20221114_060000.txt to C:\\Users\\vishal\\Desktop\\BirdCoding-main\\ravenSelectionTables\\20221114_060000.txt\n",
      "Renamed: C:\\Users\\vishal\\Desktop\\BirdCoding-main\\ravenSelectionTables\\20221116_060000.txt to C:\\Users\\vishal\\Desktop\\BirdCoding-main\\ravenSelectionTables\\20221116_060000.txt\n",
      "Renamed: C:\\Users\\vishal\\Desktop\\BirdCoding-main\\ravenSelectionTables\\20221118_060000.txt to C:\\Users\\vishal\\Desktop\\BirdCoding-main\\ravenSelectionTables\\20221118_060000.txt\n",
      "Renamed: C:\\Users\\vishal\\Desktop\\BirdCoding-main\\ravenSelectionTables\\20221119_060000.txt to C:\\Users\\vishal\\Desktop\\BirdCoding-main\\ravenSelectionTables\\20221119_060000.txt\n",
      "Renamed: C:\\Users\\vishal\\Desktop\\BirdCoding-main\\ravenSelectionTables\\20221123_060000.txt to C:\\Users\\vishal\\Desktop\\BirdCoding-main\\ravenSelectionTables\\20221123_060000.txt\n",
      "Renamed: C:\\Users\\vishal\\Desktop\\BirdCoding-main\\ravenSelectionTables\\20221124_060000.txt to C:\\Users\\vishal\\Desktop\\BirdCoding-main\\ravenSelectionTables\\20221124_060000.txt\n",
      "Renamed: C:\\Users\\vishal\\Desktop\\BirdCoding-main\\ravenSelectionTables\\20221128_060000.txt to C:\\Users\\vishal\\Desktop\\BirdCoding-main\\ravenSelectionTables\\20221128_060000.txt\n",
      "Renamed: C:\\Users\\vishal\\Desktop\\BirdCoding-main\\ravenSelectionTables\\20221129_060000.txt to C:\\Users\\vishal\\Desktop\\BirdCoding-main\\ravenSelectionTables\\20221129_060000.txt\n",
      "Renamed: C:\\Users\\vishal\\Desktop\\BirdCoding-main\\ravenSelectionTables\\20221203_060000.txt to C:\\Users\\vishal\\Desktop\\BirdCoding-main\\ravenSelectionTables\\20221203_060000.txt\n",
      "Renamed: C:\\Users\\vishal\\Desktop\\BirdCoding-main\\ravenSelectionTables\\20221204_060000.txt to C:\\Users\\vishal\\Desktop\\BirdCoding-main\\ravenSelectionTables\\20221204_060000.txt\n",
      "['C:\\\\Users\\\\vishal\\\\Desktop\\\\BirdCoding-main\\\\ravenSelectionTables\\\\20221022_060000.txt', 'C:\\\\Users\\\\vishal\\\\Desktop\\\\BirdCoding-main\\\\ravenSelectionTables\\\\20221024_060000.txt', 'C:\\\\Users\\\\vishal\\\\Desktop\\\\BirdCoding-main\\\\ravenSelectionTables\\\\20221025_060000.txt', 'C:\\\\Users\\\\vishal\\\\Desktop\\\\BirdCoding-main\\\\ravenSelectionTables\\\\20221027_060000.txt', 'C:\\\\Users\\\\vishal\\\\Desktop\\\\BirdCoding-main\\\\ravenSelectionTables\\\\20221029_060000.txt', 'C:\\\\Users\\\\vishal\\\\Desktop\\\\BirdCoding-main\\\\ravenSelectionTables\\\\20221101_060000.txt', 'C:\\\\Users\\\\vishal\\\\Desktop\\\\BirdCoding-main\\\\ravenSelectionTables\\\\20221103_060000.txt', 'C:\\\\Users\\\\vishal\\\\Desktop\\\\BirdCoding-main\\\\ravenSelectionTables\\\\20221104_060000.txt', 'C:\\\\Users\\\\vishal\\\\Desktop\\\\BirdCoding-main\\\\ravenSelectionTables\\\\20221106_060000.txt', 'C:\\\\Users\\\\vishal\\\\Desktop\\\\BirdCoding-main\\\\ravenSelectionTables\\\\20221108_060000.txt', 'C:\\\\Users\\\\vishal\\\\Desktop\\\\BirdCoding-main\\\\ravenSelectionTables\\\\20221109_060000.txt', 'C:\\\\Users\\\\vishal\\\\Desktop\\\\BirdCoding-main\\\\ravenSelectionTables\\\\20221111_060000.txt', 'C:\\\\Users\\\\vishal\\\\Desktop\\\\BirdCoding-main\\\\ravenSelectionTables\\\\20221113_060000.txt', 'C:\\\\Users\\\\vishal\\\\Desktop\\\\BirdCoding-main\\\\ravenSelectionTables\\\\20221114_060000.txt', 'C:\\\\Users\\\\vishal\\\\Desktop\\\\BirdCoding-main\\\\ravenSelectionTables\\\\20221116_060000.txt', 'C:\\\\Users\\\\vishal\\\\Desktop\\\\BirdCoding-main\\\\ravenSelectionTables\\\\20221118_060000.txt', 'C:\\\\Users\\\\vishal\\\\Desktop\\\\BirdCoding-main\\\\ravenSelectionTables\\\\20221119_060000.txt', 'C:\\\\Users\\\\vishal\\\\Desktop\\\\BirdCoding-main\\\\ravenSelectionTables\\\\20221123_060000.txt', 'C:\\\\Users\\\\vishal\\\\Desktop\\\\BirdCoding-main\\\\ravenSelectionTables\\\\20221124_060000.txt', 'C:\\\\Users\\\\vishal\\\\Desktop\\\\BirdCoding-main\\\\ravenSelectionTables\\\\20221128_060000.txt', 'C:\\\\Users\\\\vishal\\\\Desktop\\\\BirdCoding-main\\\\ravenSelectionTables\\\\20221129_060000.txt', 'C:\\\\Users\\\\vishal\\\\Desktop\\\\BirdCoding-main\\\\ravenSelectionTables\\\\20221203_060000.txt', 'C:\\\\Users\\\\vishal\\\\Desktop\\\\BirdCoding-main\\\\ravenSelectionTables\\\\20221204_060000.txt']\n"
     ]
    }
   ],
   "source": [
    "from glob import glob\n",
    "import os\n",
    "import re\n",
    "\n",
    "# Assuming your current working directory is the base path\n",
    "base_path = os.getcwd()\n",
    "\n",
    "# Folder name\n",
    "folder_name = \"ravenSelectionTables\"\n",
    "\n",
    "# Construct the relative path\n",
    "relative_folder_path = os.path.join(base_path, folder_name)\n",
    "\n",
    "# Use glob to find all .txt files directly in the folder\n",
    "selections = glob(os.path.join(relative_folder_path, \"*.txt\"))\n",
    "# Regular expression pattern to extract the date and time part\n",
    "pattern = r\"(\\d{8}_\\d{6})\" #NOTE THIS MAY NOT WORK FOR ALL RECORDINGS IN OTHER FILES\n",
    "\n",
    "# Iterate through files and rename to include only the date and time part\n",
    "for old_file_path in selections:\n",
    "    old_file_name = os.path.basename(old_file_path)\n",
    "    \n",
    "    # Use regex to find the date and time part\n",
    "    match = re.search(pattern, old_file_name)\n",
    "    \n",
    "    if match:\n",
    "        new_file_name = match.group(1)\n",
    "        \n",
    "        # Construct the new file path\n",
    "        new_file_path = os.path.join(relative_folder_path, new_file_name + \".txt\")\n",
    "        \n",
    "        # Rename the file\n",
    "        os.rename(old_file_path, new_file_path)\n",
    "        print(f\"Renamed: {old_file_path} to {new_file_path}\")\n",
    "    else:\n",
    "        print(f\"No match found in filename: {old_file_name}\")\n",
    "\n",
    "# Optional: Print the updated list of files in ravenSelectionTables\n",
    "updated_selections = glob(os.path.join(relative_folder_path, \"*.txt\"))\n",
    "print(updated_selections)\n",
    "\n",
    "\n"
   ]
  },
  {
   "cell_type": "markdown",
   "metadata": {},
   "source": [
    "Rename audio files to match raven txt selection file names"
   ]
  },
  {
   "cell_type": "code",
   "execution_count": 143,
   "metadata": {},
   "outputs": [
    {
     "name": "stdout",
     "output_type": "stream",
     "text": [
      "Renamed: C:\\Users\\vishal\\Desktop\\BirdCoding-main\\ravenSelectionTables\\20221022_060000.wav to C:\\Users\\vishal\\Desktop\\BirdCoding-main\\ravenSelectionTables\\20221022_060000.wav\n",
      "Renamed: C:\\Users\\vishal\\Desktop\\BirdCoding-main\\ravenSelectionTables\\20221024_060000.wav to C:\\Users\\vishal\\Desktop\\BirdCoding-main\\ravenSelectionTables\\20221024_060000.wav\n",
      "Renamed: C:\\Users\\vishal\\Desktop\\BirdCoding-main\\ravenSelectionTables\\20221025_060000.wav to C:\\Users\\vishal\\Desktop\\BirdCoding-main\\ravenSelectionTables\\20221025_060000.wav\n",
      "Renamed: C:\\Users\\vishal\\Desktop\\BirdCoding-main\\ravenSelectionTables\\20221027_060000.wav to C:\\Users\\vishal\\Desktop\\BirdCoding-main\\ravenSelectionTables\\20221027_060000.wav\n",
      "Renamed: C:\\Users\\vishal\\Desktop\\BirdCoding-main\\ravenSelectionTables\\20221029_060000.wav to C:\\Users\\vishal\\Desktop\\BirdCoding-main\\ravenSelectionTables\\20221029_060000.wav\n",
      "Renamed: C:\\Users\\vishal\\Desktop\\BirdCoding-main\\ravenSelectionTables\\20221101_060000.wav to C:\\Users\\vishal\\Desktop\\BirdCoding-main\\ravenSelectionTables\\20221101_060000.wav\n",
      "Renamed: C:\\Users\\vishal\\Desktop\\BirdCoding-main\\ravenSelectionTables\\20221103_060000.wav to C:\\Users\\vishal\\Desktop\\BirdCoding-main\\ravenSelectionTables\\20221103_060000.wav\n",
      "Renamed: C:\\Users\\vishal\\Desktop\\BirdCoding-main\\ravenSelectionTables\\20221104_060000.wav to C:\\Users\\vishal\\Desktop\\BirdCoding-main\\ravenSelectionTables\\20221104_060000.wav\n",
      "Renamed: C:\\Users\\vishal\\Desktop\\BirdCoding-main\\ravenSelectionTables\\20221106_060000.wav to C:\\Users\\vishal\\Desktop\\BirdCoding-main\\ravenSelectionTables\\20221106_060000.wav\n",
      "Renamed: C:\\Users\\vishal\\Desktop\\BirdCoding-main\\ravenSelectionTables\\20221108_060000.wav to C:\\Users\\vishal\\Desktop\\BirdCoding-main\\ravenSelectionTables\\20221108_060000.wav\n",
      "Renamed: C:\\Users\\vishal\\Desktop\\BirdCoding-main\\ravenSelectionTables\\20221109_060000.wav to C:\\Users\\vishal\\Desktop\\BirdCoding-main\\ravenSelectionTables\\20221109_060000.wav\n",
      "Renamed: C:\\Users\\vishal\\Desktop\\BirdCoding-main\\ravenSelectionTables\\20221111_060000.wav to C:\\Users\\vishal\\Desktop\\BirdCoding-main\\ravenSelectionTables\\20221111_060000.wav\n",
      "Renamed: C:\\Users\\vishal\\Desktop\\BirdCoding-main\\ravenSelectionTables\\20221113_060000.wav to C:\\Users\\vishal\\Desktop\\BirdCoding-main\\ravenSelectionTables\\20221113_060000.wav\n",
      "Renamed: C:\\Users\\vishal\\Desktop\\BirdCoding-main\\ravenSelectionTables\\20221114_060000.wav to C:\\Users\\vishal\\Desktop\\BirdCoding-main\\ravenSelectionTables\\20221114_060000.wav\n",
      "Renamed: C:\\Users\\vishal\\Desktop\\BirdCoding-main\\ravenSelectionTables\\20221116_060000.wav to C:\\Users\\vishal\\Desktop\\BirdCoding-main\\ravenSelectionTables\\20221116_060000.wav\n",
      "Renamed: C:\\Users\\vishal\\Desktop\\BirdCoding-main\\ravenSelectionTables\\20221118_060000.wav to C:\\Users\\vishal\\Desktop\\BirdCoding-main\\ravenSelectionTables\\20221118_060000.wav\n",
      "Renamed: C:\\Users\\vishal\\Desktop\\BirdCoding-main\\ravenSelectionTables\\20221119_060000.wav to C:\\Users\\vishal\\Desktop\\BirdCoding-main\\ravenSelectionTables\\20221119_060000.wav\n",
      "Renamed: C:\\Users\\vishal\\Desktop\\BirdCoding-main\\ravenSelectionTables\\20221123_060000.wav to C:\\Users\\vishal\\Desktop\\BirdCoding-main\\ravenSelectionTables\\20221123_060000.wav\n",
      "Renamed: C:\\Users\\vishal\\Desktop\\BirdCoding-main\\ravenSelectionTables\\20221124_060000.wav to C:\\Users\\vishal\\Desktop\\BirdCoding-main\\ravenSelectionTables\\20221124_060000.wav\n",
      "Renamed: C:\\Users\\vishal\\Desktop\\BirdCoding-main\\ravenSelectionTables\\20221128_060000.wav to C:\\Users\\vishal\\Desktop\\BirdCoding-main\\ravenSelectionTables\\20221128_060000.wav\n",
      "Renamed: C:\\Users\\vishal\\Desktop\\BirdCoding-main\\ravenSelectionTables\\20221129_060000.wav to C:\\Users\\vishal\\Desktop\\BirdCoding-main\\ravenSelectionTables\\20221129_060000.wav\n",
      "Renamed: C:\\Users\\vishal\\Desktop\\BirdCoding-main\\ravenSelectionTables\\20221203_060000.wav to C:\\Users\\vishal\\Desktop\\BirdCoding-main\\ravenSelectionTables\\20221203_060000.wav\n",
      "Renamed: C:\\Users\\vishal\\Desktop\\BirdCoding-main\\ravenSelectionTables\\20221204_060000.wav to C:\\Users\\vishal\\Desktop\\BirdCoding-main\\ravenSelectionTables\\20221204_060000.wav\n",
      "['C:\\\\Users\\\\vishal\\\\Desktop\\\\BirdCoding-main\\\\ravenSelectionTables\\\\20221022_060000.wav', 'C:\\\\Users\\\\vishal\\\\Desktop\\\\BirdCoding-main\\\\ravenSelectionTables\\\\20221024_060000.wav', 'C:\\\\Users\\\\vishal\\\\Desktop\\\\BirdCoding-main\\\\ravenSelectionTables\\\\20221025_060000.wav', 'C:\\\\Users\\\\vishal\\\\Desktop\\\\BirdCoding-main\\\\ravenSelectionTables\\\\20221027_060000.wav', 'C:\\\\Users\\\\vishal\\\\Desktop\\\\BirdCoding-main\\\\ravenSelectionTables\\\\20221029_060000.wav', 'C:\\\\Users\\\\vishal\\\\Desktop\\\\BirdCoding-main\\\\ravenSelectionTables\\\\20221101_060000.wav', 'C:\\\\Users\\\\vishal\\\\Desktop\\\\BirdCoding-main\\\\ravenSelectionTables\\\\20221103_060000.wav', 'C:\\\\Users\\\\vishal\\\\Desktop\\\\BirdCoding-main\\\\ravenSelectionTables\\\\20221104_060000.wav', 'C:\\\\Users\\\\vishal\\\\Desktop\\\\BirdCoding-main\\\\ravenSelectionTables\\\\20221106_060000.wav', 'C:\\\\Users\\\\vishal\\\\Desktop\\\\BirdCoding-main\\\\ravenSelectionTables\\\\20221108_060000.wav', 'C:\\\\Users\\\\vishal\\\\Desktop\\\\BirdCoding-main\\\\ravenSelectionTables\\\\20221109_060000.wav', 'C:\\\\Users\\\\vishal\\\\Desktop\\\\BirdCoding-main\\\\ravenSelectionTables\\\\20221111_060000.wav', 'C:\\\\Users\\\\vishal\\\\Desktop\\\\BirdCoding-main\\\\ravenSelectionTables\\\\20221113_060000.wav', 'C:\\\\Users\\\\vishal\\\\Desktop\\\\BirdCoding-main\\\\ravenSelectionTables\\\\20221114_060000.wav', 'C:\\\\Users\\\\vishal\\\\Desktop\\\\BirdCoding-main\\\\ravenSelectionTables\\\\20221116_060000.wav', 'C:\\\\Users\\\\vishal\\\\Desktop\\\\BirdCoding-main\\\\ravenSelectionTables\\\\20221118_060000.wav', 'C:\\\\Users\\\\vishal\\\\Desktop\\\\BirdCoding-main\\\\ravenSelectionTables\\\\20221119_060000.wav', 'C:\\\\Users\\\\vishal\\\\Desktop\\\\BirdCoding-main\\\\ravenSelectionTables\\\\20221123_060000.wav', 'C:\\\\Users\\\\vishal\\\\Desktop\\\\BirdCoding-main\\\\ravenSelectionTables\\\\20221124_060000.wav', 'C:\\\\Users\\\\vishal\\\\Desktop\\\\BirdCoding-main\\\\ravenSelectionTables\\\\20221128_060000.wav', 'C:\\\\Users\\\\vishal\\\\Desktop\\\\BirdCoding-main\\\\ravenSelectionTables\\\\20221129_060000.wav', 'C:\\\\Users\\\\vishal\\\\Desktop\\\\BirdCoding-main\\\\ravenSelectionTables\\\\20221203_060000.wav', 'C:\\\\Users\\\\vishal\\\\Desktop\\\\BirdCoding-main\\\\ravenSelectionTables\\\\20221204_060000.wav']\n"
     ]
    }
   ],
   "source": [
    "# create a list of audio files, one corresponding to each Raven file\n",
    "'''so this is going through the ravenSelectionTables folder and finidng the audio files. \n",
    "For now, we manually make sure the audio name is EXACT SAME as the txt file name.'''\n",
    "audio_files = glob(os.path.join(relative_folder_path, \"*.wav\"))\n",
    "\n",
    "# Regular expression pattern to extract the date and time part\n",
    "pattern = r\"(\\d{8}_\\d{6})\" #NOTE THIS MAY NOT WORK FOR ALL RECORDINGS IN OTHER FILES\n",
    "\n",
    "# Iterate through files and rename to include only the date and time part\n",
    "for old_file_path in audio_files:\n",
    "    old_file_name = os.path.basename(old_file_path)\n",
    "    \n",
    "    # Use regex to find the date and time part\n",
    "    match = re.search(pattern, old_file_name)\n",
    "    \n",
    "    if match:\n",
    "        new_file_name = match.group(1)\n",
    "        \n",
    "        # Construct the new file path\n",
    "        new_file_path = os.path.join(relative_folder_path, new_file_name + \".wav\")\n",
    "        \n",
    "        # Rename the file\n",
    "        os.rename(old_file_path, new_file_path)\n",
    "        print(f\"Renamed: {old_file_path} to {new_file_path}\")\n",
    "    else:\n",
    "        print(f\"No match found in filename: {old_file_name}\")\n",
    "\n",
    "# Optional: Print the updated list of files in ravenSelectionTables\n",
    "updated_audio_files = glob(os.path.join(relative_folder_path, \"*.wav\"))\n",
    "print(updated_audio_files)\n"
   ]
  },
  {
   "cell_type": "code",
   "execution_count": 144,
   "metadata": {},
   "outputs": [],
   "source": [
    "# Path to the directory containing Raven selection tables\n",
    "dataset_path = Path(\"./ravenSelectionTables/\")\n",
    "\n",
    "# Using glob to find all files with a .txt extension in the specified directory\n",
    "selection_files = glob(f\"{dataset_path}/*.txt\")\n",
    "\n",
    "# Counting the number of .txt files found\n",
    "len(selection_files)\n",
    "\n",
    "# Creating a list comprehension to generate corresponding audio file names\n",
    "audio_files = [f.replace('.txt','.wav') for f in selections]"
   ]
  },
  {
   "cell_type": "code",
   "execution_count": 145,
   "metadata": {},
   "outputs": [
    {
     "name": "stderr",
     "output_type": "stream",
     "text": [
      "C:\\Users\\vishal\\anaconda3\\Lib\\site-packages\\opensoundscape\\annotations.py:258: FutureWarning: The behavior of DataFrame concatenation with empty or all-NA entries is deprecated. In a future version, this will no longer exclude empty or all-NA columns when determining the result dtypes. To retain the old behavior, exclude the relevant entries before the concat operation.\n",
      "  all_annotations = pd.concat(all_file_dfs).reset_index(drop=True)\n"
     ]
    }
   ],
   "source": [
    "# Creates BoxedAnnotations object from Raven selection files and corresponding audio files\n",
    "annotations = BoxedAnnotations.from_raven_files(selection_files, audio_files)\n",
    "\n",
    "# Rename the 'annotation' column to 'length'\n",
    "annotations.df.rename(columns={'annotation': 'length'}, inplace=True)\n",
    "\n",
    "# Rename the 'Annotation' column to 'annotation'\n",
    "annotations.df.rename(columns={'Annotation': 'annotation'}, inplace=True)"
   ]
  },
  {
   "cell_type": "code",
   "execution_count": 189,
   "metadata": {},
   "outputs": [
    {
     "name": "stdout",
     "output_type": "stream",
     "text": [
      "                                                                        NOBO\n",
      "file                                               start_time end_time      \n",
      "C:\\Users\\vishal\\Desktop\\BirdCoding-main\\ravenSe... 0.0        1.0        0.0\n",
      "                                                   0.5        1.5        0.0\n",
      "                                                   1.0        2.0        0.0\n",
      "                                                   1.5        2.5        0.0\n",
      "                                                   2.0        3.0        0.0\n",
      "...                                                                      ...\n",
      "C:\\Users\\vishal\\Desktop\\BirdCoding-main\\ravenSe... 597.0      598.0      0.0\n",
      "                                                   597.5      598.5      0.0\n",
      "                                                   598.0      599.0      0.0\n",
      "                                                   598.5      599.5      0.0\n",
      "                                                   599.0      600.0      0.0\n",
      "\n",
      "[27576 rows x 1 columns]\n"
     ]
    }
   ],
   "source": [
    "# Defines parameters for creating one-hot encoded clip labels\n",
    "clip_duration = 1  # Duration of each clip in seconds\n",
    "clip_overlap = 0.5  # Overlap between consecutive clips in seconds\n",
    "min_label_overlap = 0.1  # Minimum overlap required with a label for a clip to be considered positive\n",
    "species_of_interest = [\"NOBO\"]  # List of species for which to create one-hot encoded labels\n",
    "\n",
    "# Creates one-hot encoded clip labels DataFrame using annotations\n",
    "labels_df = annotations.one_hot_clip_labels(\n",
    "    clip_duration=clip_duration,\n",
    "    clip_overlap=clip_overlap,\n",
    "    min_label_overlap=min_label_overlap,\n",
    "    class_subset=species_of_interest  # Specify the species of interest to include in the labels\n",
    ")\n",
    "\n",
    "# Prints the resulting DataFrame containing one-hot encoded clip labels\n",
    "print(labels_df)\n"
   ]
  },
  {
   "cell_type": "code",
   "execution_count": 190,
   "metadata": {},
   "outputs": [],
   "source": [
    "import random\n",
    "\n",
    "# Get the list of files in the directory with '.txt' extension\n",
    "files = os.listdir(\"./ravenSelectionTables/\")\n",
    "files = [file for file in files if file.endswith('.txt')]\n",
    "\n",
    "# Randomly select 20% of the files for the test set\n",
    "random_files = random.sample(files, int(float(len(selection_files)) * 0.2))\n",
    "\n",
    "# Remove '.txt' extension from file names\n",
    "l = [str(file).replace(\".txt\", \"\") for file in random_files]\n",
    "\n",
    "# Create a mask to filter the test set from the labels DataFrame\n",
    "mask = labels_df.reset_index()['file'].apply(lambda x: any(file_name in x for file_name in l)).values\n",
    "\n",
    "# Filter out the test set and create train and validation sets\n",
    "test_set = labels_df[mask]\n",
    "train_and_val_set = labels_df.drop(test_set.index)\n",
    "\n",
    "# Save train and validation sets and test set to CSV files\n",
    "train_and_val_set.to_csv(\"./train_and_val_set.csv\")\n",
    "test_set.to_csv(\"./test_set.csv\")\n",
    "\n",
    "# Read train and validation sets and test set from CSV files\n",
    "train_and_val_set = pd.read_csv('./train_and_val_set.csv', index_col=[0, 1, 2])\n",
    "test_set = pd.read_csv('./test_set.csv', index_col=[0, 1, 2])"
   ]
  },
  {
   "cell_type": "code",
   "execution_count": 148,
   "metadata": {},
   "outputs": [],
   "source": [
    "import sklearn\n",
    "\n",
    "# Split the train_and_val_set DataFrame into training and validation sets\n",
    "# test_size=0.1 means 10% of the dataset will be used for validation\n",
    "# random_state=0 sets the seed for the random number generator for reproducibility\n",
    "train_df, valid_df = sklearn.model_selection.train_test_split(train_and_val_set, test_size=0.1, random_state=0)"
   ]
  },
  {
   "cell_type": "code",
   "execution_count": 149,
   "metadata": {},
   "outputs": [],
   "source": [
    "# Save the training set as a CSV file\n",
    "train_df.to_csv(\"./train_set.csv\")\n",
    "\n",
    "# Save the validation set as a CSV file\n",
    "valid_df.to_csv(\"./valid_set.csv\")"
   ]
  },
  {
   "cell_type": "code",
   "execution_count": 150,
   "metadata": {},
   "outputs": [
    {
     "data": {
      "text/plain": [
       "'\\ncount=0\\nfor index, row in train_df.iterrows():\\n    if row[\"NOBO\"]==1:\\n        count=count+1\\ntrain_positives=count\\n\\ncount=0\\nfor index, row in valid_df.iterrows():\\n    if row[\"NOBO\"]==1:\\n        count=count+1\\nvalid_positives=count\\n\\ncount=0\\nfor index, row in test_set.iterrows():\\n    if row[\"NOBO\"]==1:\\n        count=count+1\\ntest_positives=count\\n\\ncount=0\\nfor index, row in train_df.iterrows():\\n    count=count+1\\ntotal_train=count\\n\\ncount=0\\nfor index, row in valid_df.iterrows():\\n    count=count+1\\ntotal_valid=count\\n\\ncount=0\\nfor index, row in test_set.iterrows():\\n    count=count+1\\ntotal_test=count\\n'"
      ]
     },
     "execution_count": 150,
     "metadata": {},
     "output_type": "execute_result"
    }
   ],
   "source": [
    "'''\n",
    "count=0\n",
    "for index, row in train_df.iterrows():\n",
    "    if row[\"NOBO\"]==1:\n",
    "        count=count+1\n",
    "train_positives=count\n",
    "\n",
    "count=0\n",
    "for index, row in valid_df.iterrows():\n",
    "    if row[\"NOBO\"]==1:\n",
    "        count=count+1\n",
    "valid_positives=count\n",
    "\n",
    "count=0\n",
    "for index, row in test_set.iterrows():\n",
    "    if row[\"NOBO\"]==1:\n",
    "        count=count+1\n",
    "test_positives=count\n",
    "\n",
    "count=0\n",
    "for index, row in train_df.iterrows():\n",
    "    count=count+1\n",
    "total_train=count\n",
    "\n",
    "count=0\n",
    "for index, row in valid_df.iterrows():\n",
    "    count=count+1\n",
    "total_valid=count\n",
    "\n",
    "count=0\n",
    "for index, row in test_set.iterrows():\n",
    "    count=count+1\n",
    "total_test=count\n",
    "'''"
   ]
  },
  {
   "cell_type": "code",
   "execution_count": 151,
   "metadata": {},
   "outputs": [
    {
     "data": {
      "text/plain": [
       "'\\n# Initialize count variable to keep track of the number of instances processed\\ncount = 1\\n\\n# Initialize an empty list to store the indices of instances to be removed from the training set\\nl = []\\n\\n# Iterate through each row in the training set\\nfor index, row in train_df.iterrows():\\n    # Check if the label for the class \"NOBO\" is 0 and the count is within the specified threshold\\n    if row[\"NOBO\"] == 0 and count <= total_train - (train_positives + (train_positives*2)):\\n        # If the conditions are met, append the index of the row to the list\\n        l.append(index)\\n        # Increment the count\\n        count += 1\\n\\n# Reset the count variable to 1 for the validation set\\ncount = 1\\n\\n# Initialize an empty list to store the indices of instances to be removed from the validation set\\nvl = []\\n\\n# Iterate through each row in the validation set\\nfor index, row in valid_df.iterrows():\\n    # Check if the label for the class \"NOBO\" is 0 and the count is within the specified threshold\\n    if row[\"NOBO\"] == 0 and count <= total_valid - (valid_positives + (valid_positives*2)):\\n        # If the conditions are met, append the index of the row to the list\\n        vl.append(index)\\n        # Increment the count\\n        count += 1\\n'"
      ]
     },
     "execution_count": 151,
     "metadata": {},
     "output_type": "execute_result"
    }
   ],
   "source": [
    "'''\n",
    "# Initialize count variable to keep track of the number of instances processed\n",
    "count = 1\n",
    "\n",
    "# Initialize an empty list to store the indices of instances to be removed from the training set\n",
    "l = []\n",
    "\n",
    "# Iterate through each row in the training set\n",
    "for index, row in train_df.iterrows():\n",
    "    # Check if the label for the class \"NOBO\" is 0 and the count is within the specified threshold\n",
    "    if row[\"NOBO\"] == 0 and count <= total_train - (train_positives + (train_positives*2)):\n",
    "        # If the conditions are met, append the index of the row to the list\n",
    "        l.append(index)\n",
    "        # Increment the count\n",
    "        count += 1\n",
    "\n",
    "# Reset the count variable to 1 for the validation set\n",
    "count = 1\n",
    "\n",
    "# Initialize an empty list to store the indices of instances to be removed from the validation set\n",
    "vl = []\n",
    "\n",
    "# Iterate through each row in the validation set\n",
    "for index, row in valid_df.iterrows():\n",
    "    # Check if the label for the class \"NOBO\" is 0 and the count is within the specified threshold\n",
    "    if row[\"NOBO\"] == 0 and count <= total_valid - (valid_positives + (valid_positives*2)):\n",
    "        # If the conditions are met, append the index of the row to the list\n",
    "        vl.append(index)\n",
    "        # Increment the count\n",
    "        count += 1\n",
    "'''"
   ]
  },
  {
   "cell_type": "code",
   "execution_count": 152,
   "metadata": {},
   "outputs": [
    {
     "data": {
      "text/plain": [
       "'\\n# Drop rows from train_df based on indices in l\\ntrain_df = train_df.drop(l)\\n\\n# Drop rows from valid_df based on indices in vl\\nvalid_df = valid_df.drop(vl)\\n'"
      ]
     },
     "execution_count": 152,
     "metadata": {},
     "output_type": "execute_result"
    }
   ],
   "source": [
    "'''\n",
    "# Drop rows from train_df based on indices in l\n",
    "train_df = train_df.drop(l)\n",
    "\n",
    "# Drop rows from valid_df based on indices in vl\n",
    "valid_df = valid_df.drop(vl)\n",
    "'''"
   ]
  },
  {
   "cell_type": "code",
   "execution_count": 153,
   "metadata": {},
   "outputs": [
    {
     "name": "stdout",
     "output_type": "stream",
     "text": [
      "                                                                        NOBO\n",
      "file                                               start_time end_time      \n",
      "C:\\Users\\vishal\\Desktop\\BirdCoding-main\\ravenSe... 435.5      436.5      0.0\n",
      "C:\\Users\\vishal\\Desktop\\BirdCoding-main\\ravenSe... 504.0      505.0      0.0\n",
      "C:\\Users\\vishal\\Desktop\\BirdCoding-main\\ravenSe... 337.0      338.0      0.0\n",
      "C:\\Users\\vishal\\Desktop\\BirdCoding-main\\ravenSe... 432.5      433.5      0.0\n",
      "C:\\Users\\vishal\\Desktop\\BirdCoding-main\\ravenSe... 339.0      340.0      0.0\n",
      "...                                                                      ...\n",
      "C:\\Users\\vishal\\Desktop\\BirdCoding-main\\ravenSe... 86.0       87.0       0.0\n",
      "C:\\Users\\vishal\\Desktop\\BirdCoding-main\\ravenSe... 329.5      330.5      0.0\n",
      "C:\\Users\\vishal\\Desktop\\BirdCoding-main\\ravenSe... 93.0       94.0       0.0\n",
      "C:\\Users\\vishal\\Desktop\\BirdCoding-main\\ravenSe... 202.0      203.0      0.0\n",
      "C:\\Users\\vishal\\Desktop\\BirdCoding-main\\ravenSe... 67.0       68.0       0.0\n",
      "\n",
      "[20502 rows x 1 columns]\n",
      "                                                                        NOBO\n",
      "file                                               start_time end_time      \n",
      "C:\\Users\\vishal\\Desktop\\BirdCoding-main\\ravenSe... 428.5      429.5      0.0\n",
      "C:\\Users\\vishal\\Desktop\\BirdCoding-main\\ravenSe... 583.0      584.0      0.0\n",
      "C:\\Users\\vishal\\Desktop\\BirdCoding-main\\ravenSe... 418.0      419.0      0.0\n",
      "C:\\Users\\vishal\\Desktop\\BirdCoding-main\\ravenSe... 36.0       37.0       0.0\n",
      "C:\\Users\\vishal\\Desktop\\BirdCoding-main\\ravenSe... 400.5      401.5      0.0\n",
      "...                                                                      ...\n",
      "C:\\Users\\vishal\\Desktop\\BirdCoding-main\\ravenSe... 37.5       38.5       0.0\n",
      "                                                   311.5      312.5      0.0\n",
      "C:\\Users\\vishal\\Desktop\\BirdCoding-main\\ravenSe... 321.5      322.5      0.0\n",
      "C:\\Users\\vishal\\Desktop\\BirdCoding-main\\ravenSe... 32.0       33.0       0.0\n",
      "C:\\Users\\vishal\\Desktop\\BirdCoding-main\\ravenSe... 337.5      338.5      0.0\n",
      "\n",
      "[2278 rows x 1 columns]\n"
     ]
    }
   ],
   "source": [
    "# Randomly shuffle the rows of train_df\n",
    "train_df = train_df.sample(frac=1)\n",
    "\n",
    "# Randomly shuffle the rows of valid_df\n",
    "valid_df = valid_df.sample(frac=1)\n",
    "\n",
    "# Print the shuffled train_df\n",
    "print(train_df)\n",
    "\n",
    "# Print the shuffled valid_df\n",
    "print(valid_df)"
   ]
  },
  {
   "cell_type": "code",
   "execution_count": 154,
   "metadata": {},
   "outputs": [],
   "source": [
    "from opensoundscape import CNN\n",
    "\n",
    "# Use resnet34 architecture\n",
    "architecture = 'resnet34'\n",
    "\n",
    "# Can use this code to get your classes, if needed\n",
    "# Retrieve the list of classes from the columns of the train_df DataFrame\n",
    "class_list = list(train_df.columns)\n",
    "\n",
    "# Initialize a CNN model with the specified architecture, classes, and sample duration\n",
    "model = CNN(\n",
    "    architecture=architecture,      # Architecture of the CNN model\n",
    "    classes=class_list,             # List of classes for classification\n",
    "    sample_duration=clip_duration  # Duration of audio clips used for training\n",
    ")"
   ]
  },
  {
   "cell_type": "code",
   "execution_count": 155,
   "metadata": {},
   "outputs": [
    {
     "name": "stderr",
     "output_type": "stream",
     "text": [
      "\u001b[34m\u001b[1mwandb\u001b[0m: Currently logged in as: \u001b[33myashwanthpinnapu\u001b[0m (\u001b[33mquail\u001b[0m). Use \u001b[1m`wandb login --relogin`\u001b[0m to force relogin\n",
      "\u001b[34m\u001b[1mwandb\u001b[0m: Currently logged in as: \u001b[33myashwanthpinnapu\u001b[0m. Use \u001b[1m`wandb login --relogin`\u001b[0m to force relogin\n",
      "C:\\Users\\vishal\\anaconda3\\Lib\\site-packages\\wandb\\sdk\\lib\\ipython.py:77: DeprecationWarning: Importing display from IPython.core.display is deprecated since IPython 7.14, please import from IPython display\n",
      "  from IPython.core.display import HTML, display  # type: ignore\n"
     ]
    },
    {
     "data": {
      "text/html": [
       "Tracking run with wandb version 0.16.4"
      ],
      "text/plain": [
       "<IPython.core.display.HTML object>"
      ]
     },
     "metadata": {},
     "output_type": "display_data"
    },
    {
     "data": {
      "text/html": [
       "Run data is saved locally in <code>C:\\Users\\vishal\\Desktop\\BirdCoding-main\\wandb\\run-20240317_142208-zar93rt5</code>"
      ],
      "text/plain": [
       "<IPython.core.display.HTML object>"
      ]
     },
     "metadata": {},
     "output_type": "display_data"
    },
    {
     "data": {
      "text/html": [
       "Syncing run <strong><a href='https://wandb.ai/quail/BirdCoding/runs/zar93rt5' target=\"_blank\">Train CNN</a></strong> to <a href='https://wandb.ai/quail/BirdCoding' target=\"_blank\">Weights & Biases</a> (<a href='https://wandb.me/run' target=\"_blank\">docs</a>)<br/>"
      ],
      "text/plain": [
       "<IPython.core.display.HTML object>"
      ]
     },
     "metadata": {},
     "output_type": "display_data"
    },
    {
     "data": {
      "text/html": [
       " View project at <a href='https://wandb.ai/quail/BirdCoding' target=\"_blank\">https://wandb.ai/quail/BirdCoding</a>"
      ],
      "text/plain": [
       "<IPython.core.display.HTML object>"
      ]
     },
     "metadata": {},
     "output_type": "display_data"
    },
    {
     "data": {
      "text/html": [
       " View run at <a href='https://wandb.ai/quail/BirdCoding/runs/zar93rt5' target=\"_blank\">https://wandb.ai/quail/BirdCoding/runs/zar93rt5</a>"
      ],
      "text/plain": [
       "<IPython.core.display.HTML object>"
      ]
     },
     "metadata": {},
     "output_type": "display_data"
    }
   ],
   "source": [
    "# Not working currently\n",
    "'''\n",
    "import wandb\n",
    "try:\n",
    "    wandb.login()\n",
    "    wandb_session = wandb.init(\n",
    "        entity='Quail', #replace with your entity/group name\n",
    "        project='BirdCoding',\n",
    "        name='Train CNN',\n",
    "    )\n",
    "except: #if wandb.init fails, don't use wandb logging\n",
    "    print('failed to create wandb session. wandb session will be None')\n",
    "    wandb_session = None\n",
    "'''"
   ]
  },
  {
   "cell_type": "code",
   "execution_count": 156,
   "metadata": {},
   "outputs": [],
   "source": [
    "# Define the folder path where model training checkpoints will be saved\n",
    "checkpoint_folder = Path(\"model_training_checkpoints\")\n",
    "\n",
    "# Create the folder if it doesn't exist\n",
    "checkpoint_folder.mkdir(exist_ok=True)\n"
   ]
  },
  {
   "cell_type": "code",
   "execution_count": 157,
   "metadata": {},
   "outputs": [
    {
     "name": "stdout",
     "output_type": "stream",
     "text": [
      "True\n"
     ]
    },
    {
     "data": {
      "text/plain": [
       "CNN(\n",
       "  (network): ResNet(\n",
       "    (conv1): Conv2d(3, 64, kernel_size=(7, 7), stride=(2, 2), padding=(3, 3), bias=False)\n",
       "    (bn1): BatchNorm2d(64, eps=1e-05, momentum=0.1, affine=True, track_running_stats=True)\n",
       "    (relu): ReLU(inplace=True)\n",
       "    (maxpool): MaxPool2d(kernel_size=3, stride=2, padding=1, dilation=1, ceil_mode=False)\n",
       "    (layer1): Sequential(\n",
       "      (0): BasicBlock(\n",
       "        (conv1): Conv2d(64, 64, kernel_size=(3, 3), stride=(1, 1), padding=(1, 1), bias=False)\n",
       "        (bn1): BatchNorm2d(64, eps=1e-05, momentum=0.1, affine=True, track_running_stats=True)\n",
       "        (relu): ReLU(inplace=True)\n",
       "        (conv2): Conv2d(64, 64, kernel_size=(3, 3), stride=(1, 1), padding=(1, 1), bias=False)\n",
       "        (bn2): BatchNorm2d(64, eps=1e-05, momentum=0.1, affine=True, track_running_stats=True)\n",
       "      )\n",
       "      (1): BasicBlock(\n",
       "        (conv1): Conv2d(64, 64, kernel_size=(3, 3), stride=(1, 1), padding=(1, 1), bias=False)\n",
       "        (bn1): BatchNorm2d(64, eps=1e-05, momentum=0.1, affine=True, track_running_stats=True)\n",
       "        (relu): ReLU(inplace=True)\n",
       "        (conv2): Conv2d(64, 64, kernel_size=(3, 3), stride=(1, 1), padding=(1, 1), bias=False)\n",
       "        (bn2): BatchNorm2d(64, eps=1e-05, momentum=0.1, affine=True, track_running_stats=True)\n",
       "      )\n",
       "      (2): BasicBlock(\n",
       "        (conv1): Conv2d(64, 64, kernel_size=(3, 3), stride=(1, 1), padding=(1, 1), bias=False)\n",
       "        (bn1): BatchNorm2d(64, eps=1e-05, momentum=0.1, affine=True, track_running_stats=True)\n",
       "        (relu): ReLU(inplace=True)\n",
       "        (conv2): Conv2d(64, 64, kernel_size=(3, 3), stride=(1, 1), padding=(1, 1), bias=False)\n",
       "        (bn2): BatchNorm2d(64, eps=1e-05, momentum=0.1, affine=True, track_running_stats=True)\n",
       "      )\n",
       "    )\n",
       "    (layer2): Sequential(\n",
       "      (0): BasicBlock(\n",
       "        (conv1): Conv2d(64, 128, kernel_size=(3, 3), stride=(2, 2), padding=(1, 1), bias=False)\n",
       "        (bn1): BatchNorm2d(128, eps=1e-05, momentum=0.1, affine=True, track_running_stats=True)\n",
       "        (relu): ReLU(inplace=True)\n",
       "        (conv2): Conv2d(128, 128, kernel_size=(3, 3), stride=(1, 1), padding=(1, 1), bias=False)\n",
       "        (bn2): BatchNorm2d(128, eps=1e-05, momentum=0.1, affine=True, track_running_stats=True)\n",
       "        (downsample): Sequential(\n",
       "          (0): Conv2d(64, 128, kernel_size=(1, 1), stride=(2, 2), bias=False)\n",
       "          (1): BatchNorm2d(128, eps=1e-05, momentum=0.1, affine=True, track_running_stats=True)\n",
       "        )\n",
       "      )\n",
       "      (1): BasicBlock(\n",
       "        (conv1): Conv2d(128, 128, kernel_size=(3, 3), stride=(1, 1), padding=(1, 1), bias=False)\n",
       "        (bn1): BatchNorm2d(128, eps=1e-05, momentum=0.1, affine=True, track_running_stats=True)\n",
       "        (relu): ReLU(inplace=True)\n",
       "        (conv2): Conv2d(128, 128, kernel_size=(3, 3), stride=(1, 1), padding=(1, 1), bias=False)\n",
       "        (bn2): BatchNorm2d(128, eps=1e-05, momentum=0.1, affine=True, track_running_stats=True)\n",
       "      )\n",
       "      (2): BasicBlock(\n",
       "        (conv1): Conv2d(128, 128, kernel_size=(3, 3), stride=(1, 1), padding=(1, 1), bias=False)\n",
       "        (bn1): BatchNorm2d(128, eps=1e-05, momentum=0.1, affine=True, track_running_stats=True)\n",
       "        (relu): ReLU(inplace=True)\n",
       "        (conv2): Conv2d(128, 128, kernel_size=(3, 3), stride=(1, 1), padding=(1, 1), bias=False)\n",
       "        (bn2): BatchNorm2d(128, eps=1e-05, momentum=0.1, affine=True, track_running_stats=True)\n",
       "      )\n",
       "      (3): BasicBlock(\n",
       "        (conv1): Conv2d(128, 128, kernel_size=(3, 3), stride=(1, 1), padding=(1, 1), bias=False)\n",
       "        (bn1): BatchNorm2d(128, eps=1e-05, momentum=0.1, affine=True, track_running_stats=True)\n",
       "        (relu): ReLU(inplace=True)\n",
       "        (conv2): Conv2d(128, 128, kernel_size=(3, 3), stride=(1, 1), padding=(1, 1), bias=False)\n",
       "        (bn2): BatchNorm2d(128, eps=1e-05, momentum=0.1, affine=True, track_running_stats=True)\n",
       "      )\n",
       "    )\n",
       "    (layer3): Sequential(\n",
       "      (0): BasicBlock(\n",
       "        (conv1): Conv2d(128, 256, kernel_size=(3, 3), stride=(2, 2), padding=(1, 1), bias=False)\n",
       "        (bn1): BatchNorm2d(256, eps=1e-05, momentum=0.1, affine=True, track_running_stats=True)\n",
       "        (relu): ReLU(inplace=True)\n",
       "        (conv2): Conv2d(256, 256, kernel_size=(3, 3), stride=(1, 1), padding=(1, 1), bias=False)\n",
       "        (bn2): BatchNorm2d(256, eps=1e-05, momentum=0.1, affine=True, track_running_stats=True)\n",
       "        (downsample): Sequential(\n",
       "          (0): Conv2d(128, 256, kernel_size=(1, 1), stride=(2, 2), bias=False)\n",
       "          (1): BatchNorm2d(256, eps=1e-05, momentum=0.1, affine=True, track_running_stats=True)\n",
       "        )\n",
       "      )\n",
       "      (1): BasicBlock(\n",
       "        (conv1): Conv2d(256, 256, kernel_size=(3, 3), stride=(1, 1), padding=(1, 1), bias=False)\n",
       "        (bn1): BatchNorm2d(256, eps=1e-05, momentum=0.1, affine=True, track_running_stats=True)\n",
       "        (relu): ReLU(inplace=True)\n",
       "        (conv2): Conv2d(256, 256, kernel_size=(3, 3), stride=(1, 1), padding=(1, 1), bias=False)\n",
       "        (bn2): BatchNorm2d(256, eps=1e-05, momentum=0.1, affine=True, track_running_stats=True)\n",
       "      )\n",
       "      (2): BasicBlock(\n",
       "        (conv1): Conv2d(256, 256, kernel_size=(3, 3), stride=(1, 1), padding=(1, 1), bias=False)\n",
       "        (bn1): BatchNorm2d(256, eps=1e-05, momentum=0.1, affine=True, track_running_stats=True)\n",
       "        (relu): ReLU(inplace=True)\n",
       "        (conv2): Conv2d(256, 256, kernel_size=(3, 3), stride=(1, 1), padding=(1, 1), bias=False)\n",
       "        (bn2): BatchNorm2d(256, eps=1e-05, momentum=0.1, affine=True, track_running_stats=True)\n",
       "      )\n",
       "      (3): BasicBlock(\n",
       "        (conv1): Conv2d(256, 256, kernel_size=(3, 3), stride=(1, 1), padding=(1, 1), bias=False)\n",
       "        (bn1): BatchNorm2d(256, eps=1e-05, momentum=0.1, affine=True, track_running_stats=True)\n",
       "        (relu): ReLU(inplace=True)\n",
       "        (conv2): Conv2d(256, 256, kernel_size=(3, 3), stride=(1, 1), padding=(1, 1), bias=False)\n",
       "        (bn2): BatchNorm2d(256, eps=1e-05, momentum=0.1, affine=True, track_running_stats=True)\n",
       "      )\n",
       "      (4): BasicBlock(\n",
       "        (conv1): Conv2d(256, 256, kernel_size=(3, 3), stride=(1, 1), padding=(1, 1), bias=False)\n",
       "        (bn1): BatchNorm2d(256, eps=1e-05, momentum=0.1, affine=True, track_running_stats=True)\n",
       "        (relu): ReLU(inplace=True)\n",
       "        (conv2): Conv2d(256, 256, kernel_size=(3, 3), stride=(1, 1), padding=(1, 1), bias=False)\n",
       "        (bn2): BatchNorm2d(256, eps=1e-05, momentum=0.1, affine=True, track_running_stats=True)\n",
       "      )\n",
       "      (5): BasicBlock(\n",
       "        (conv1): Conv2d(256, 256, kernel_size=(3, 3), stride=(1, 1), padding=(1, 1), bias=False)\n",
       "        (bn1): BatchNorm2d(256, eps=1e-05, momentum=0.1, affine=True, track_running_stats=True)\n",
       "        (relu): ReLU(inplace=True)\n",
       "        (conv2): Conv2d(256, 256, kernel_size=(3, 3), stride=(1, 1), padding=(1, 1), bias=False)\n",
       "        (bn2): BatchNorm2d(256, eps=1e-05, momentum=0.1, affine=True, track_running_stats=True)\n",
       "      )\n",
       "    )\n",
       "    (layer4): Sequential(\n",
       "      (0): BasicBlock(\n",
       "        (conv1): Conv2d(256, 512, kernel_size=(3, 3), stride=(2, 2), padding=(1, 1), bias=False)\n",
       "        (bn1): BatchNorm2d(512, eps=1e-05, momentum=0.1, affine=True, track_running_stats=True)\n",
       "        (relu): ReLU(inplace=True)\n",
       "        (conv2): Conv2d(512, 512, kernel_size=(3, 3), stride=(1, 1), padding=(1, 1), bias=False)\n",
       "        (bn2): BatchNorm2d(512, eps=1e-05, momentum=0.1, affine=True, track_running_stats=True)\n",
       "        (downsample): Sequential(\n",
       "          (0): Conv2d(256, 512, kernel_size=(1, 1), stride=(2, 2), bias=False)\n",
       "          (1): BatchNorm2d(512, eps=1e-05, momentum=0.1, affine=True, track_running_stats=True)\n",
       "        )\n",
       "      )\n",
       "      (1): BasicBlock(\n",
       "        (conv1): Conv2d(512, 512, kernel_size=(3, 3), stride=(1, 1), padding=(1, 1), bias=False)\n",
       "        (bn1): BatchNorm2d(512, eps=1e-05, momentum=0.1, affine=True, track_running_stats=True)\n",
       "        (relu): ReLU(inplace=True)\n",
       "        (conv2): Conv2d(512, 512, kernel_size=(3, 3), stride=(1, 1), padding=(1, 1), bias=False)\n",
       "        (bn2): BatchNorm2d(512, eps=1e-05, momentum=0.1, affine=True, track_running_stats=True)\n",
       "      )\n",
       "      (2): BasicBlock(\n",
       "        (conv1): Conv2d(512, 512, kernel_size=(3, 3), stride=(1, 1), padding=(1, 1), bias=False)\n",
       "        (bn1): BatchNorm2d(512, eps=1e-05, momentum=0.1, affine=True, track_running_stats=True)\n",
       "        (relu): ReLU(inplace=True)\n",
       "        (conv2): Conv2d(512, 512, kernel_size=(3, 3), stride=(1, 1), padding=(1, 1), bias=False)\n",
       "        (bn2): BatchNorm2d(512, eps=1e-05, momentum=0.1, affine=True, track_running_stats=True)\n",
       "      )\n",
       "    )\n",
       "    (avgpool): AdaptiveAvgPool2d(output_size=(1, 1))\n",
       "    (fc): Linear(in_features=512, out_features=1, bias=True)\n",
       "  )\n",
       "  (loss_fn): BCEWithLogitsLoss_hot()\n",
       ")"
      ]
     },
     "execution_count": 157,
     "metadata": {},
     "output_type": "execute_result"
    }
   ],
   "source": [
    "# Run this if you have a GPU\n",
    "'''\n",
    "from numba import jit, cuda\n",
    "import torch\n",
    "print(torch.cuda.is_available())\n",
    "device = torch.device(\"cuda\")\n",
    "model.to(device)\n",
    "'''"
   ]
  },
  {
   "cell_type": "code",
   "execution_count": 158,
   "metadata": {},
   "outputs": [
    {
     "name": "stdout",
     "output_type": "stream",
     "text": [
      "model.device is: cuda:0\n"
     ]
    }
   ],
   "source": [
    "# Gives on what the code is running(cpu,cuda...)\n",
    "print(f'model.device is: {model.device}')"
   ]
  },
  {
   "cell_type": "code",
   "execution_count": 159,
   "metadata": {},
   "outputs": [
    {
     "data": {
      "text/plain": [
       "'\\n%%capture --no-stdout --no-display\\n# Train the model\\nmodel.train(\\n    train_df,  # Training dataset\\n    valid_df,  # Validation dataset\\n    epochs=10,  # Number of epochs for training\\n    batch_size=64,  # Batch size\\n    log_interval=1000,  # Log progress every 100 batches\\n    num_workers=12,  # Number of parallelized CPU tasks for preprocessing\\n    save_interval=5,  # Save checkpoint every 5 epochs\\n    save_path=checkpoint_folder  # Location to save checkpoints\\n)\\n'"
      ]
     },
     "execution_count": 159,
     "metadata": {},
     "output_type": "execute_result"
    }
   ],
   "source": [
    "# Run this to train\n",
    "'''\n",
    "%%capture --no-stdout --no-display\n",
    "# Train the model\n",
    "model.train(\n",
    "    train_df,  # Training dataset\n",
    "    valid_df,  # Validation dataset\n",
    "    epochs=10,  # Number of epochs for training\n",
    "    batch_size=64,  # Batch size\n",
    "    log_interval=1000,  # Log progress every 100 batches\n",
    "    num_workers=12,  # Number of parallelized CPU tasks for preprocessing\n",
    "    save_interval=5,  # Save checkpoint every 5 epochs\n",
    "    save_path=checkpoint_folder  # Location to save checkpoints\n",
    ")\n",
    "'''"
   ]
  },
  {
   "cell_type": "code",
   "execution_count": 160,
   "metadata": {},
   "outputs": [],
   "source": [
    "# Load a saved model\n",
    "from opensoundscape import load_model\n",
    "model=load_model(\"./model_training_checkpoints/best.model\")"
   ]
  },
  {
   "cell_type": "code",
   "execution_count": 191,
   "metadata": {},
   "outputs": [
    {
     "data": {
      "application/vnd.jupyter.widget-view+json": {
       "model_id": "3031051e2bfa453e83d85bdf17e182ba",
       "version_major": 2,
       "version_minor": 0
      },
      "text/plain": [
       "  0%|          | 0/4796 [00:00<?, ?it/s]"
      ]
     },
     "metadata": {},
     "output_type": "display_data"
    }
   ],
   "source": [
    "%%capture --no-stdout --no-display\n",
    "# Generate predictions using the trained model on the test set\n",
    "scores = model.predict(test_set, overlap_fraction=0.5, activation_layer='sigmoid')"
   ]
  },
  {
   "cell_type": "code",
   "execution_count": 192,
   "metadata": {
    "scrolled": true
   },
   "outputs": [
    {
     "data": {
      "text/html": [
       "<div>\n",
       "<style scoped>\n",
       "    .dataframe tbody tr th:only-of-type {\n",
       "        vertical-align: middle;\n",
       "    }\n",
       "\n",
       "    .dataframe tbody tr th {\n",
       "        vertical-align: top;\n",
       "    }\n",
       "\n",
       "    .dataframe thead th {\n",
       "        text-align: right;\n",
       "    }\n",
       "</style>\n",
       "<table border=\"1\" class=\"dataframe\">\n",
       "  <thead>\n",
       "    <tr style=\"text-align: right;\">\n",
       "      <th></th>\n",
       "      <th></th>\n",
       "      <th></th>\n",
       "      <th>NOBO</th>\n",
       "      <th>present</th>\n",
       "    </tr>\n",
       "    <tr>\n",
       "      <th>file</th>\n",
       "      <th>start_time</th>\n",
       "      <th>end_time</th>\n",
       "      <th></th>\n",
       "      <th></th>\n",
       "    </tr>\n",
       "  </thead>\n",
       "  <tbody>\n",
       "    <tr>\n",
       "      <th rowspan=\"5\" valign=\"top\">C:\\Users\\vishal\\Desktop\\BirdCoding-main\\ravenSelectionTables\\20221114_060000.wav</th>\n",
       "      <th>0.0</th>\n",
       "      <th>1.0</th>\n",
       "      <td>0.000419</td>\n",
       "      <td>True</td>\n",
       "    </tr>\n",
       "    <tr>\n",
       "      <th>0.5</th>\n",
       "      <th>1.5</th>\n",
       "      <td>0.000297</td>\n",
       "      <td>True</td>\n",
       "    </tr>\n",
       "    <tr>\n",
       "      <th>1.0</th>\n",
       "      <th>2.0</th>\n",
       "      <td>0.000441</td>\n",
       "      <td>True</td>\n",
       "    </tr>\n",
       "    <tr>\n",
       "      <th>1.5</th>\n",
       "      <th>2.5</th>\n",
       "      <td>0.000529</td>\n",
       "      <td>True</td>\n",
       "    </tr>\n",
       "    <tr>\n",
       "      <th>2.0</th>\n",
       "      <th>3.0</th>\n",
       "      <td>0.000238</td>\n",
       "      <td>True</td>\n",
       "    </tr>\n",
       "  </tbody>\n",
       "</table>\n",
       "</div>"
      ],
      "text/plain": [
       "                                                                            NOBO  \\\n",
       "file                                               start_time end_time             \n",
       "C:\\Users\\vishal\\Desktop\\BirdCoding-main\\ravenSe... 0.0        1.0       0.000419   \n",
       "                                                   0.5        1.5       0.000297   \n",
       "                                                   1.0        2.0       0.000441   \n",
       "                                                   1.5        2.5       0.000529   \n",
       "                                                   2.0        3.0       0.000238   \n",
       "\n",
       "                                                                        present  \n",
       "file                                               start_time end_time           \n",
       "C:\\Users\\vishal\\Desktop\\BirdCoding-main\\ravenSe... 0.0        1.0          True  \n",
       "                                                   0.5        1.5          True  \n",
       "                                                   1.0        2.0          True  \n",
       "                                                   1.5        2.5          True  \n",
       "                                                   2.0        3.0          True  "
      ]
     },
     "execution_count": 192,
     "metadata": {},
     "output_type": "execute_result"
    }
   ],
   "source": [
    "# Insert a new column \"present\" with all values set to True\n",
    "scores.insert(1, \"present\", True)\n",
    "\n",
    "# Display the first few rows of the DataFrame\n",
    "scores.head()\n"
   ]
  },
  {
   "cell_type": "code",
   "execution_count": 163,
   "metadata": {},
   "outputs": [],
   "source": [
    "# Save the validation set as a CSV file\n",
    "scores.to_csv(\"./prediction_set.csv\")"
   ]
  },
  {
   "cell_type": "code",
   "execution_count": 193,
   "metadata": {
    "scrolled": true
   },
   "outputs": [
    {
     "data": {
      "image/png": "[encoded data removed]",
      "text/plain": [
       "<Figure size 1500x500 with 1 Axes>"
      ]
     },
     "metadata": {
      "image/png": {
       "height": 469,
       "width": 1247
      }
     },
     "output_type": "display_data"
    }
   ],
   "source": [
    "plt.hist(scores['NOBO'], bins=300, color='skyblue')\n",
    "plt.xlabel('Value')\n",
    "plt.ylabel('Frequency')\n",
    "#plt.xlim(0.75, 1)\n",
    "#plt.ylim(0, 200)\n",
    "#plt.xticks(np.arange(0.8, 1, 0.02))\n",
    "plt.title('Distribution of Values between 0 and 1')\n",
    "plt.show()"
   ]
  },
  {
   "cell_type": "code",
   "execution_count": 207,
   "metadata": {},
   "outputs": [
    {
     "name": "stdout",
     "output_type": "stream",
     "text": [
      "                                                                            NOBO  \\\n",
      "file                                               start_time end_time             \n",
      "C:\\Users\\vishal\\Desktop\\BirdCoding-main\\ravenSe... 0.0        1.0       0.000419   \n",
      "                                                   0.5        1.5       0.000297   \n",
      "                                                   1.0        2.0       0.000441   \n",
      "                                                   1.5        2.5       0.000529   \n",
      "                                                   2.0        3.0       0.000238   \n",
      "...                                                                          ...   \n",
      "C:\\Users\\vishal\\Desktop\\BirdCoding-main\\ravenSe... 597.0      598.0     0.021994   \n",
      "                                                   597.5      598.5     0.026476   \n",
      "                                                   598.0      599.0     0.015326   \n",
      "                                                   598.5      599.5     0.075049   \n",
      "                                                   599.0      600.0     0.003860   \n",
      "\n",
      "                                                                       present  \n",
      "file                                               start_time end_time          \n",
      "C:\\Users\\vishal\\Desktop\\BirdCoding-main\\ravenSe... 0.0        1.0            0  \n",
      "                                                   0.5        1.5            0  \n",
      "                                                   1.0        2.0            0  \n",
      "                                                   1.5        2.5            0  \n",
      "                                                   2.0        3.0            0  \n",
      "...                                                                        ...  \n",
      "C:\\Users\\vishal\\Desktop\\BirdCoding-main\\ravenSe... 597.0      598.0          0  \n",
      "                                                   597.5      598.5          0  \n",
      "                                                   598.0      599.0          0  \n",
      "                                                   598.5      599.5          0  \n",
      "                                                   599.0      600.0          0  \n",
      "\n",
      "[4796 rows x 2 columns]\n"
     ]
    }
   ],
   "source": [
    "# Iterate through each row in the scores DataFrame\n",
    "for index, row in scores.iterrows():\n",
    "    # Check if the predicted score for the class 'NOBO' is greater than 0.5\n",
    "    if row[\"NOBO\"] > 0.5:\n",
    "        # If the score is greater than 0.5, set the 'present' column value to 1\n",
    "        scores.at[index, 'present'] = 1\n",
    "    else:\n",
    "        # If the score is not greater than 0.5, set the 'present' column value to 0\n",
    "        scores.at[index, 'present'] = 0\n",
    "\n",
    "# Display the first few rows of the scores DataFrame after updating the 'present' column\n",
    "print(scores)"
   ]
  },
  {
   "cell_type": "code",
   "execution_count": 218,
   "metadata": {
    "scrolled": true
   },
   "outputs": [
    {
     "name": "stdout",
     "output_type": "stream",
     "text": [
      "Accuracy = 0.9706005004170142\n",
      "Precision = 0.8881578947368421\n",
      "Recall = 0.8809135399673735\n",
      "F1 Score = 0.8845208845208845\n",
      "Confusion Matrix: [[540, 68], [73, 4115]]\n"
     ]
    }
   ],
   "source": [
    "# Initialize variables to count true positives (TP), true negatives (TN), false positives (FP), and false negatives (FN)\n",
    "TP = 0\n",
    "TN = 0\n",
    "FP = 0\n",
    "FN = 0\n",
    "\n",
    "# Iterate through each row in the scores DataFrame\n",
    "for index, row in scores.iterrows():\n",
    "    # Check if the predicted value (present) is equal to the ground truth value (NOBO) and both are 1 (true positive)\n",
    "    if row[\"present\"] == test_set.at[index,'NOBO'] == 1:\n",
    "        TP += 1\n",
    "    # Check if the predicted value (present) is equal to the ground truth value (NOBO) and both are 0 (true negative)\n",
    "    elif row[\"present\"] == test_set.at[index,'NOBO'] == 0:\n",
    "        TN += 1\n",
    "    # Check if the predicted value is 1 (positive) while the ground truth value is 0 (false positive)\n",
    "    elif row[\"present\"] == 1 and test_set.at[index,'NOBO'] == 0:\n",
    "        FP += 1\n",
    "    # Check if the predicted value is 0 (negative) while the ground truth value is 1 (false negative)\n",
    "    elif row[\"present\"] == 0 and test_set.at[index,'NOBO'] == 1:\n",
    "        FN += 1\n",
    "\n",
    "# Calculate accuracy, precision, recall, and F1 score\n",
    "accuracy = (TP + TN) / (TP + TN + FP + FN)\n",
    "precision = TP / (TP + FP)\n",
    "recall = TP / (TP + FN)\n",
    "f1_score = (2 * (precision * recall)) / (precision + recall)\n",
    "\n",
    "# Create a confusion matrix\n",
    "confusion_matrix = [[TP, FP], [FN, TN]]\n",
    "\n",
    "# Print the metrics and confusion matrix\n",
    "print(\"Accuracy =\", accuracy)\n",
    "print(\"Precision =\", precision)\n",
    "print(\"Recall =\", recall)\n",
    "print(\"F1 Score =\", f1_score)\n",
    "print(\"Confusion Matrix:\", confusion_matrix)"
   ]
  },
  {
   "cell_type": "code",
   "execution_count": 168,
   "metadata": {},
   "outputs": [
    {
     "data": {
      "text/plain": [
       "'audio_object = Audio.from_file(scores.at[index,\\'file\\'])\\ntrimmed = audio_object.trim(row[\"start_time\"],row[\"end_time\"])\\ntrimmed.show_widget(normalize=True)'"
      ]
     },
     "execution_count": 168,
     "metadata": {},
     "output_type": "execute_result"
    }
   ],
   "source": [
    "# Use this to check TP, FP, FN, FP\n",
    "'''\n",
    "        audio_object = Audio.from_file(index[0])\n",
    "        trimmed = audio_object.trim(index[1],index[2])\n",
    "        spectrogram_object = Spectrogram.from_audio(trimmed)\n",
    "        trimmed.show_widget(normalize=True)\n",
    "        fig= plt.subplots(figsize=(6, 4))  # Set the width to 8 inches and height to 4 inches\n",
    "        spectrogram_object.plot()\n",
    "        plt.show()\n",
    "'''"
   ]
  },
  {
   "cell_type": "code",
   "execution_count": 167,
   "metadata": {},
   "outputs": [
    {
     "data": {
      "text/plain": [
       "'# Initialize an empty list to store indices of rows to be removed\\ntl = []\\n\\n# Initialize a counter\\ncount = 1\\n\\n# Iterate through each row in the test_set DataFrame\\nfor index, row in test_set.iterrows():\\n    # Check if the ground truth value (NOBO) is 0 and the count is less than the desired threshold\\n    if row[\"NOBO\"] == 0 and count <= (total_test - (test_positives + 2*test_positives)):\\n        # Append the index of the row to the list\\n        tl.append(index)\\n        # Increment the counter\\n        count += 1\\n\\n# Drop rows with indices specified in the list from the test_set DataFrame\\ntest_set = test_set.drop(tl)'"
      ]
     },
     "execution_count": 167,
     "metadata": {},
     "output_type": "execute_result"
    }
   ],
   "source": [
    "'''\n",
    "# Initialize an empty list to store indices of rows to be removed\n",
    "tl = []\n",
    "\n",
    "# Initialize a counter\n",
    "count = 1\n",
    "\n",
    "# Iterate through each row in the test_set DataFrame\n",
    "for index, row in test_set.iterrows():\n",
    "    # Check if the ground truth value (NOBO) is 0 and the count is less than the desired threshold\n",
    "    if row[\"NOBO\"] == 0 and count <= (total_test - (test_positives + 2*test_positives)):\n",
    "        # Append the index of the row to the list\n",
    "        tl.append(index)\n",
    "        # Increment the counter\n",
    "        count += 1\n",
    "\n",
    "# Drop rows with indices specified in the list from the test_set DataFrame\n",
    "test_set = test_set.drop(tl)\n",
    "'''"
   ]
  },
  {
   "cell_type": "code",
   "execution_count": null,
   "metadata": {},
   "outputs": [],
   "source": []
  }
 ],
 "metadata": {
  "kernelspec": {
   "display_name": "Python 3 (ipykernel)",
   "language": "python",
   "name": "python3"
  },
  "language_info": {
   "codemirror_mode": {
    "name": "ipython",
    "version": 3
   },
   "file_extension": ".py",
   "mimetype": "text/x-python",
   "name": "python",
   "nbconvert_exporter": "python",
   "pygments_lexer": "ipython3",
   "version": "3.11.7"
  }
 },
 "nbformat": 4,
 "nbformat_minor": 4
}
